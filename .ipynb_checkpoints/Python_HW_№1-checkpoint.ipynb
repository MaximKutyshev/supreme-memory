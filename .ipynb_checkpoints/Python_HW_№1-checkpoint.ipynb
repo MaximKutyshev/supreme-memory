{
 "cells": [
  {
   "cell_type": "markdown",
   "metadata": {},
   "source": [
    "# Основы  Python\n",
    "\n",
    "### Задание №1\n",
    "\n",
    "Даны 2 переменных, в которых хранятся строки произвольной длины: phrase_1 и phrase_2.\n",
    "Напишите код, который проверяет какая из этих строк длиннее."
   ]
  },
  {
   "cell_type": "code",
   "execution_count": 1,
   "metadata": {},
   "outputs": [
    {
     "name": "stdout",
     "output_type": "stream",
     "text": [
      "Насколько проще было бы писать программы, если бы не заказчики\n",
      "Насколько проще было бы писать программы, если бы не заказчики\n",
      "Фразы одинаковой длины\n"
     ]
    }
   ],
   "source": [
    "phrasa_1=input()\n",
    "phrasa_2=input()\n",
    "if len(phrasa_1)>len(phrasa_2):\n",
    "    print(\"Первая фраза длиннее второй\")\n",
    "elif len(phrasa_1)<len(phrasa_2):\n",
    "    print(\"Вторая фраза длиннее первой\")\n",
    "else:\n",
    "    print (\"Фразы одинаковой длины\")"
   ]
  },
  {
   "cell_type": "markdown",
   "metadata": {},
   "source": [
    "### Задание №2 \n",
    "\n",
    "Дана переменная, в которой хранится четырехзначное число (год). Необходимо написать программу, которая выведет, является ли данный год високосным или обычным."
   ]
  },
  {
   "cell_type": "code",
   "execution_count": 3,
   "metadata": {},
   "outputs": [
    {
     "name": "stdout",
     "output_type": "stream",
     "text": [
      "Введите год, который хотите проверить 2020\n",
      "Введенный год високосный\n"
     ]
    }
   ],
   "source": [
    "year=int(input('Введите год, который хотите проверить '))\n",
    "if year%4==0:\n",
    "    print (\"Введенный год високосный\")\n",
    "else:\n",
    "    print (\"Обычный год\")"
   ]
  },
  {
   "cell_type": "markdown",
   "metadata": {},
   "source": [
    "### Задание №3\n",
    "\n",
    "Необходимо написать программу, которая будет запрашивать у пользователя месяц и дату рождения и выводить соответствующий знак зодиака."
   ]
  },
  {
   "cell_type": "code",
   "execution_count": 10,
   "metadata": {},
   "outputs": [
    {
     "name": "stdout",
     "output_type": "stream",
     "text": [
      "Введите день рождения (число) 5 \n",
      "Введите месяц вашего рождения (словами) Август\n",
      "Вы - Лев\n"
     ]
    }
   ],
   "source": [
    "day=int(input(\"Введите день рождения (число) \"))\n",
    "mounth=input(\"Введите месяц вашего рождения (словами) \")\n",
    "if (day>=21 and mounth==\"Март\") or (day<=20 and mounth==\"Апрель\"):\n",
    "    print(\"Вы - Овен\")\n",
    "elif (day>=21 and mounth==\"Апрель\") or (day<=21 and mounth==\"Май\"):\n",
    "    print(\"Вы - Телец\")\n",
    "elif (day>=22 and mounth==\"Май\") or (day<=21 and mounth==\"Июнь\"):\n",
    "    print(\"Вы - Близнецы\")\n",
    "elif (day>=22 and mounth==\"Май\") or (day<=21 and mounth==\"Июнь\"):\n",
    "    print(\"Вы - Близнецы\")\n",
    "elif (day>=22 and mounth==\"Июнь\") or (day<=22 and mounth==\"Июль\"):\n",
    "    print(\"Вы - Рак\")\n",
    "elif (day>=23 and mounth==\"Июль\") or (day<=21 and mounth==\"Август\"):\n",
    "    print(\"Вы - Лев\")\n",
    "elif (day>=22 and mounth==\"Август\") or (day<=23 and mounth==\"Сентябрь\"):\n",
    "    print(\"Вы - Дева\")\n",
    "elif (day>=24 and mounth==\"Сентябрь\") or (day<=23 and mounth==\"Октябрь\"):\n",
    "    print(\"Вы - Весы\")\n",
    "elif (day>=24 and mounth==\"Октябрь\") or (day<=22 and mounth==\"Ноябрь\"):\n",
    "    print(\"Вы - Скорпион\")\n",
    "elif (day>=23 and mounth==\"Ноябрь\") or (day<=22 and mounth==\"Декабрь\"):\n",
    "    print(\"Вы - Стрелец\")\n",
    "elif (day>=23 and mounth==\"Декабрь\") or (day<=20 and mounth==\"Январь\"):\n",
    "    print(\"Вы - Козерог\")\n",
    "elif (day>=21 and mounth==\"Январь\") or (day<=19 and mounth==\"Февраль\"):\n",
    "    print(\"Вы - Водолей\")\n",
    "elif (day>=20 and mounth==\"Февраль\") or (day<=20 and mounth==\"Март\"):\n",
    "    print(\"Вы - Рыбы\")\n",
    "else:\n",
    "    print(\"Что-то пошло не так... Попробуйте заново\")"
   ]
  },
  {
   "cell_type": "markdown",
   "metadata": {},
   "source": [
    "### Задание 4\n",
    "\n",
    "Вам нужно написать программу для подбора упаковок по размерам товара."
   ]
  },
  {
   "cell_type": "code",
   "execution_count": 18,
   "metadata": {},
   "outputs": [
    {
     "name": "stdout",
     "output_type": "stream",
     "text": [
      "Все измерения вводить в см\n",
      "Введите ширину товара10\n",
      "Введите длину товара10\n",
      "Введите высоту товара100\n",
      "Коробка №3\n"
     ]
    }
   ],
   "source": [
    "print(\"Все измерения вводить в см\")\n",
    "width = int(input(\"Введите ширину товара\"))\n",
    "length = int(input(\"Введите длину товара\"))\n",
    "height = int(input(\"Введите высоту товара\"))\n",
    "\n",
    "if width<15 and length<15 and height<15:\n",
    "    print (\"Коробка №1\")\n",
    "elif 15<=width<50 or 15<=length<50 or 15<=height<50:\n",
    "    print (\"Коробка №2\")\n",
    "elif length>200:\n",
    "    print (\"Упаковка для лыж\")\n",
    "else:\n",
    "    print (\"Коробка №3\")\n",
    "    "
   ]
  },
  {
   "cell_type": "markdown",
   "metadata": {},
   "source": [
    " ### Задание 5\n",
    " \n",
    " Дана переменная, в которой хранится шестизначное число (номер проездного билета). Напишите программу, которая будет определять, является ли данный билет “счастливым”. Билет считается счастливым, если сумма первых трех цифр совпадает с суммой последних трех цифр номера"
   ]
  },
  {
   "cell_type": "code",
   "execution_count": 54,
   "metadata": {},
   "outputs": [
    {
     "name": "stdout",
     "output_type": "stream",
     "text": [
      "Введите шестизначный номер вашего билета 268736\n",
      "Билет счастливый :)\n"
     ]
    }
   ],
   "source": [
    "number=int(input(\"Введите шестизначный номер вашего билета \"))\n",
    "n=number//1000 #Определяю первые 3 цифры\n",
    "m=number%1000 #Определяю последние 3 цифры\n",
    "sum_1=0\n",
    "while n>0:\n",
    "    sum_1+=n%10\n",
    "    n=n//10\n",
    "sum_2=0  \n",
    "while m>0:\n",
    "    sum_2+=m%10\n",
    "    m=m//10 \n",
    "if sum_1==sum_2:\n",
    "    print (\"Билет счастливый :)\")\n",
    "else: \n",
    "    print(\"Обычный билет\")"
   ]
  },
  {
   "cell_type": "markdown",
   "metadata": {},
   "source": [
    "### Задание 6\n",
    "\n",
    "Напишите программу, которая сможет вычислять площади трех фигур (круг, треугольник и прямоугольник)."
   ]
  },
  {
   "cell_type": "code",
   "execution_count": 48,
   "metadata": {},
   "outputs": [
    {
     "name": "stdout",
     "output_type": "stream",
     "text": [
      "Выберите фигуру, площадь которой хотите найти\n",
      "1. Круг\n",
      "2. Треугольник\n",
      "3. Прямоугольник\n",
      "Ваш выбор 2\n",
      "Введите длину стороны труегольника 3\n",
      "Введите длину стороны труегольника 4\n",
      "Введите длину стороны труегольника 5\n",
      "Площадь треугольника равна  6.00\n"
     ]
    }
   ],
   "source": [
    "from math import pi, sqrt\n",
    "\n",
    "print (\"Выберите фигуру, площадь которой хотите найти\")\n",
    "print (\"1. Круг\")\n",
    "print (\"2. Треугольник\")\n",
    "print (\"3. Прямоугольник\")\n",
    "\n",
    "x=int(input(\"Ваш выбор \"))\n",
    "\n",
    "if x==1:\n",
    "    r=int(input(\"Введите радиус круга\"))\n",
    "    print (\"Площадь круга равна\", (r**2)*pi )\n",
    "elif x==2:\n",
    "    a=int(input(\"Введите длину стороны труегольника \"))\n",
    "    b=int(input(\"Введите длину стороны труегольника \"))\n",
    "    c=int(input(\"Введите длину стороны труегольника \"))\n",
    "    if a+b>c and b+c>a and a+c>b:\n",
    "        p=(a+b+c)/2\n",
    "        s=sqrt(p*(p-a)*(p-b)*(p-c))\n",
    "        print (\"Площадь треугольника равна \", \"%.2f\"%s)\n",
    "    else:\n",
    "        print(\"Треугольник не существует\")\n",
    "elif x==3:\n",
    "    a=int(input(\"Введите длину прямоугольника \"))\n",
    "    b=int(input(\"Введите ширину треугольника \"))\n",
    "    print (\"Площадь прямоугольника равна \", a*b)\n",
    "    \n",
    "    "
   ]
  }
 ],
 "metadata": {
  "kernelspec": {
   "display_name": "Python 3",
   "language": "python",
   "name": "python3"
  },
  "language_info": {
   "codemirror_mode": {
    "name": "ipython",
    "version": 3
   },
   "file_extension": ".py",
   "mimetype": "text/x-python",
   "name": "python",
   "nbconvert_exporter": "python",
   "pygments_lexer": "ipython3",
   "version": "3.8.5"
  }
 },
 "nbformat": 4,
 "nbformat_minor": 4
}
